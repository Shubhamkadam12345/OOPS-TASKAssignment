{
 "cells": [
  {
   "cell_type": "code",
   "execution_count": null,
   "id": "1404b407-a85f-4d0b-b085-1c7fd69d3bca",
   "metadata": {},
   "outputs": [],
   "source": [
    "Q.1"
   ]
  },
  {
   "cell_type": "code",
   "execution_count": null,
   "id": "68b934dc-4016-4bf2-b3a0-9386db98c2c1",
   "metadata": {},
   "outputs": [],
   "source": [
    "Class Vehicle:"
   ]
  },
  {
   "cell_type": "code",
   "execution_count": 1,
   "id": "8cd43fab-8730-466e-b08f-c17e806107bd",
   "metadata": {},
   "outputs": [
    {
     "ename": "SyntaxError",
     "evalue": "invalid syntax. Perhaps you forgot a comma? (2308847573.py, line 1)",
     "output_type": "error",
     "traceback": [
      "\u001b[0;36m  Cell \u001b[0;32mIn[1], line 1\u001b[0;36m\u001b[0m\n\u001b[0;31m    def__inti__(self, max__ speed, milege)\u001b[0m\n\u001b[0m                      ^\u001b[0m\n\u001b[0;31mSyntaxError\u001b[0m\u001b[0;31m:\u001b[0m invalid syntax. Perhaps you forgot a comma?\n"
     ]
    }
   ],
   "source": [
    "def__inti__(self, max__ speed, milege)\n",
    "            self,max__speed=max___speed\n",
    "            self, milege= milege"
   ]
  },
  {
   "cell_type": "code",
   "execution_count": null,
   "id": "e65eda6d-39c3-4cbd-90cf-aeab0f9291ba",
   "metadata": {},
   "outputs": [],
   "source": [
    "car= vehicle ( 220, 10,000)\n",
    "print ( car max___speed, car. milege)"
   ]
  },
  {
   "cell_type": "markdown",
   "id": "1863712e-d406-4049-9d5b-2637ef5b78b5",
   "metadata": {},
   "source": [
    "Q.2"
   ]
  },
  {
   "cell_type": "code",
   "execution_count": null,
   "id": "50018da1-acab-491c-8ae0-5138313dceec",
   "metadata": {},
   "outputs": [],
   "source": [
    "class Vehicle ( A,B,C )\n",
    "     @ abctract method\n",
    "     def start ( self )\n",
    "        pass;\n",
    "class car ( Vehicle )\n",
    "      def start ( Self )\n",
    "      self____supply power ( from Battery ();\n",
    "      self____rotate Engine ();\n",
    "      self____ignition()                      "
   ]
  },
  {
   "cell_type": "code",
   "execution_count": null,
   "id": "dd4393e5-e762-484e-ac8f-02db969a3fa2",
   "metadata": {},
   "outputs": [],
   "source": [
    "Q.3"
   ]
  },
  {
   "cell_type": "code",
   "execution_count": null,
   "id": "ec456030-dc7b-4e90-ac49-2d885855effc",
   "metadata": {},
   "outputs": [],
   "source": [
    "A subclass can inherit from two or mo0ore superclasse\n",
    "Allow a child class to inherit properties or behavioue\n",
    "from multiple base classes \n",
    "base class 1 * Base class 2 "
   ]
  },
  {
   "cell_type": "code",
   "execution_count": null,
   "id": "d1d32f34-cea4-4ad1-b09d-94a39f19a3f5",
   "metadata": {},
   "outputs": [],
   "source": [
    "Q.4"
   ]
  },
  {
   "cell_type": "code",
   "execution_count": null,
   "id": "df38b305-d683-4400-b554-642f97787e3d",
   "metadata": {},
   "outputs": [],
   "source": [
    "Used to protect your data, particulariy when creating classes"
   ]
  },
  {
   "cell_type": "code",
   "execution_count": null,
   "id": "88b418ce-6de1-4740-aec5-5f8420c1d77e",
   "metadata": {},
   "outputs": [],
   "source": [
    "// Getter\n",
    "public string get color ()\n",
    "return  color\n"
   ]
  },
  {
   "cell_type": "code",
   "execution_count": null,
   "id": "a6fa395e-2404-443a-bae2-a13b375c1f62",
   "metadata": {},
   "outputs": [],
   "source": [
    "// setter\n",
    "public void set color ( string ) {\n",
    "this color=( "
   ]
  },
  {
   "cell_type": "code",
   "execution_count": null,
   "id": "ff80ede4-0b47-40e4-a802-694153a392c0",
   "metadata": {},
   "outputs": [],
   "source": [
    "Q.5"
   ]
  },
  {
   "cell_type": "code",
   "execution_count": null,
   "id": "3f1a9dd6-e480-417a-9ffd-9a4969d540be",
   "metadata": {},
   "outputs": [],
   "source": [
    "when you have two method with the same name that each perform different tasks"
   ]
  },
  {
   "cell_type": "code",
   "execution_count": null,
   "id": "7cac0db3-ebe8-4b42-a71f-7a1ecd4a93cb",
   "metadata": {},
   "outputs": [],
   "source": [
    "Class Employee\n",
    "def add ( self a,b ):\n",
    "print ( The sum of two= a*b)\n"
   ]
  },
  {
   "cell_type": "code",
   "execution_count": null,
   "id": "73a78c26-befa-4d41-ad1c-e6efb544b039",
   "metadata": {},
   "outputs": [],
   "source": [
    "Class Department ( Employee ) "
   ]
  },
  {
   "cell_type": "code",
   "execution_count": null,
   "id": "dc385d77-2b05-4d4a-b7a6-9751762a9fed",
   "metadata": {},
   "outputs": [],
   "source": [
    "def add ( self a,b,c)\n",
    "print ( "
   ]
  }
 ],
 "metadata": {
  "kernelspec": {
   "display_name": "Python 3 (ipykernel)",
   "language": "python",
   "name": "python3"
  },
  "language_info": {
   "codemirror_mode": {
    "name": "ipython",
    "version": 3
   },
   "file_extension": ".py",
   "mimetype": "text/x-python",
   "name": "python",
   "nbconvert_exporter": "python",
   "pygments_lexer": "ipython3",
   "version": "3.10.8"
  }
 },
 "nbformat": 4,
 "nbformat_minor": 5
}
